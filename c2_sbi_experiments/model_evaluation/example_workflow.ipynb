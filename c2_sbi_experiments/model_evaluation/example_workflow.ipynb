{
 "cells": [
  {
   "cell_type": "markdown",
   "id": "4b0c2494-f773-42b9-8c20-342b5552783d",
   "metadata": {},
   "source": [
    "This notebook provides an example of how a user might interact with the current model evaluation functions. Here we show a start-to-finish workflow of requesting observations, ParFlow outputs, and then creating some plots. These functions run under the assumption that a ParFlow run has already been completed and has outputs available."
   ]
  },
  {
   "cell_type": "code",
   "execution_count": 1,
   "id": "eaf87d56-66fe-4ac0-8964-bae8249aa1ad",
   "metadata": {},
   "outputs": [],
   "source": [
    "import pandas as pd\n",
    "import subsettools\n",
    "\n",
    "from model_evaluation import get_observations, get_parflow_output, calculate_metrics, explore_available_observations\n",
    "from plots import plot_obs_locations, plot_time_series, plot_compare_scatter, plot_metric_map"
   ]
  },
  {
   "cell_type": "code",
   "execution_count": 2,
   "id": "5b5e5c2f-4161-4be6-a86c-0ef9d2c55d38",
   "metadata": {},
   "outputs": [],
   "source": [
    "# Define mask\n",
    "# Note that this workflow requires a mask and its ij_bounds on either the CONUS1 or CONUS2 grid. This is an\n",
    "# example of defining such a mask and bounds using subsettools and a HUC. \n",
    "grid = \"conus2\"\n",
    "huc_list = [\"02040106\"]\n",
    "ij_bounds, mask = subsettools.define_huc_domain(huc_list, grid)\n",
    "\n",
    "\n",
    "# Define other inputs to workflow\n",
    "start_date = \"2003-04-01 01:00:00\"\n",
    "end_date = \"2003-04-30 00:00:00\"\n",
    "temporal_resolution = \"hourly\"\n",
    "\n",
    "parflow_runname=\"02040106\"\n",
    "parflow_output_dir=f\"/scratch/network/hydrogen_collaboration/example_parflow_runs/02040106/outputs/{parflow_runname}_conus2_2003WY\"\n",
    "\n",
    "variable_list = [\"streamflow\"]"
   ]
  },
  {
   "cell_type": "code",
   "execution_count": 3,
   "id": "f7289184-cbb8-4d67-a2b6-355fb3c0b147",
   "metadata": {},
   "outputs": [],
   "source": [
    "# Example workflow\n",
    "# Note: We could wrap this whole code cell in a function evaluate_parflow() that takes\n",
    "# in the entries from the above cell as inputs and does the rest behind-the-scenes\n",
    "\n",
    "# Evaluate\n",
    "for variable in variable_list:\n",
    "\n",
    "    # Get observation data for sites in domain\n",
    "    obs_metadata_df, obs_data_df = get_observations(mask, ij_bounds, grid, start_date, end_date,\n",
    "                                                    variable, temporal_resolution)\n",
    "\n",
    "    # Get ParFlow outputs matching site locations\n",
    "    parflow_data_df = get_parflow_output(obs_metadata_df, parflow_output_dir, parflow_runname, \n",
    "                                         start_date, end_date, variable, temporal_resolution)\n",
    "\n",
    "    # Calculate metrics comparing ParFlow vs. observations\n",
    "    metrics_df = calculate_metrics(obs_data_df, parflow_data_df, obs_metadata_df,\n",
    "                                   write_csv=True, csv_path=f\"{variable}_metrics.csv\")\n",
    "\n",
    "    ########################\n",
    "    # Produce and save plots\n",
    "    ########################\n",
    "    \n",
    "    # Time series plots: ParFlow vs. observations\n",
    "    plot_time_series(obs_data_df, parflow_data_df, obs_metadata_df, variable,\n",
    "                     output_dir=f\"plots/{variable}/time_series\")\n",
    "\n",
    "    # Scatter plot for all sites comparing values\n",
    "    plot_compare_scatter(obs_data_df, parflow_data_df, variable,\n",
    "                         log_scale=False, output_dir=f\"plots/{variable}\")\n",
    "\n",
    "    # Map color-coded by site value for a given metric\n",
    "    plot_metric_map(mask, metrics_df, variable,\n",
    "                    metrics_list=[\"rmse\", \"spearman_rho\"], \n",
    "                    output_dir=f\"plots/{variable}\")"
   ]
  },
  {
   "cell_type": "code",
   "execution_count": null,
   "id": "30b86fcd-c387-4817-b167-9a6caf24b764",
   "metadata": {},
   "outputs": [],
   "source": [
    "# Auxillary function to see what observations are available across mulitple site types\n",
    "obs_available_metadata_df = explore_available_observations(mask, ij_bounds, grid, date_start=start_date, date_end=end_date)\n",
    "\n",
    "plot_obs_locations(obs_available_metadata_df, mask, file_path=\"plots/observation_site_locations.png\")"
   ]
  },
  {
   "cell_type": "code",
   "execution_count": null,
   "id": "950c5941-b6ac-4587-9dbf-b28a4e6ec94d",
   "metadata": {},
   "outputs": [],
   "source": []
  }
 ],
 "metadata": {
  "kernelspec": {
   "display_name": "Python 3 (ipykernel)",
   "language": "python",
   "name": "python3"
  },
  "language_info": {
   "codemirror_mode": {
    "name": "ipython",
    "version": 3
   },
   "file_extension": ".py",
   "mimetype": "text/x-python",
   "name": "python",
   "nbconvert_exporter": "python",
   "pygments_lexer": "ipython3",
   "version": "3.11.4"
  }
 },
 "nbformat": 4,
 "nbformat_minor": 5
}
